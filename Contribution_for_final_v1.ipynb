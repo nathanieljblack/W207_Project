{
 "cells": [
  {
   "cell_type": "code",
   "execution_count": 2,
   "metadata": {
    "collapsed": true
   },
   "outputs": [],
   "source": [
    "%matplotlib inline\n",
    "import matplotlib.pyplot as plt"
   ]
  },
  {
   "cell_type": "markdown",
   "metadata": {},
   "source": [
    "** Feature Engineering - Sunlight/Energy received by a 30 by 30 patch **  \n",
    "The idea behind this feature is that different trees respond differently to amount of sunlight/energy.  \n",
    "The dataset provides values of Hillshade for every patch at 9 am, 12 noon and 3 pm. Hillshade is a measure of sunlight incident upon a patch. It has values between 0 and 255 where 0 represents absence of sunlight. Hillshade takes into account Sun's elevation, latitude, slope and aspect of the patch.      \n",
    "This engineered feature indicates the relative amount of sunlight/energy a patch receives. The assumption is that amount of sunlight is more directly correlated to Cover_Type than individual measures of Hillshade and hence is a better predictor. The amount of sunlight is calculated as Area under the curve of the below figure.  \n",
    "This figure below is a simplification of the curve because the $f(time)=Hillshade$ is not a linear function. But despite the simplification we get an increase in accuracy.  \n",
    "To cacluate the area, we measured time in seconds.  \n",
    "After calculating energy, dropping the original hilshade features increased the accuracy"
   ]
  },
  {
   "cell_type": "code",
   "execution_count": 11,
   "metadata": {
    "collapsed": false
   },
   "outputs": [
    {
     "data": {
      "image/png": "[encoded data removed]",
      "text/plain": [
       "<matplotlib.figure.Figure at 0x7fe74ba5bd10>"
      ]
     },
     "metadata": {},
     "output_type": "display_data"
    }
   ],
   "source": [
    "plt.figure() \n",
    "\n",
    "hillshade = [141, 215, 91]        # Hillshade values at 9 am, 12 noon and 3 pm\n",
    "time = [9, 12, 15]                # Time at 9 am, 12 noon and 3 pm\n",
    "plt.subplot(1, 1, 1)\n",
    "plt.plot([9, 12, 15], [141, 215, 91])\n",
    "x_l = plt.xlabel('Hrs')\n",
    "y_l = plt.ylabel('Hillshade')"
   ]
  },
  {
   "cell_type": "code",
   "execution_count": null,
   "metadata": {
    "collapsed": true
   },
   "outputs": [],
   "source": [
    "data['Energy'] = ((data['Hillshade_9am']+data['Hillshade_Noon'])/2)*10800 + ((data['Hillshade_Noon']+data['Hillshade_3pm'])/2)*10800\n",
    "data.drop('Hillshade_9am', axis=1, inplace=True)\n",
    "data.drop('Hillshade_Noon', axis=1, inplace=True)\n",
    "data.drop('Hillshade_3pm', axis=1, inplace=True)"
   ]
  },
  {
   "cell_type": "markdown",
   "metadata": {},
   "source": [
    "** Feature Engineering - Is patch closer to Roadway and Firepoint than water **  \n",
    "The idea behind these features is that hydrology affect on trees wil be impacted if human effects (Roadways) and natural hazards (fires) are nearby.   \n",
    "These features indicate if roadways and fire points are closer to a patch than hydrology.  \n",
    "These features have improved accuracy"
   ]
  },
  {
   "cell_type": "code",
   "execution_count": null,
   "metadata": {
    "collapsed": true
   },
   "outputs": [],
   "source": [
    "data['Is_Roadway_Closer_than_Water'] = (data['Horizontal_Distance_To_Roadways'] < data['Horizontal_Distance_To_Hydrology'])\n",
    "data['Is_Firepoint_Closer_than_Water'] = (data['Horizontal_Distance_To_Fire_Points'] < data['Horizontal_Distance_To_Hydrology'])"
   ]
  },
  {
   "cell_type": "markdown",
   "metadata": {},
   "source": [
    "** Feature Engineering - Creating features of differentiate Cover_Types 1 and 2 **  \n",
    "The test data is unusual because it is heavily skewed towards Cover_Types 1 and 2. Additionally, train data shows that these two cover types are very similar.  \n",
    "** Nate's bivariate distribution contour plot will demonstrate this point **  \n",
    "To induce variation in the data we have added two extra features by multiplying features together. Multiplication will amplify the variation.  \n",
    "These features have increased the accuracy"
   ]
  },
  {
   "cell_type": "code",
   "execution_count": null,
   "metadata": {
    "collapsed": true
   },
   "outputs": [],
   "source": [
    "data['ShdHvdH'] = data['Slope'] * data['Horizontal_Distance_To_Hydrology'] * data['Vertical_Distance_To_Hydrology']\n",
    "data['hdFPhdR'] = data['Horizontal_Distance_To_Fire_Points'] * data['Horizontal_Distance_To_Roadways'] "
   ]
  },
  {
   "cell_type": "markdown",
   "metadata": {},
   "source": [
    "** All feature engineering wrapped in a function **"
   ]
  },
  {
   "cell_type": "code",
   "execution_count": null,
   "metadata": {
    "collapsed": true
   },
   "outputs": [],
   "source": [
    "#Azimuth Adjustment\n",
    "def adjust(x): \n",
    "    if x+180>360: \n",
    "        return x-180 \n",
    "    else: \n",
    "        return x+180 \n",
    "\n",
    "def feature_engineering(data_to_tranform):\n",
    "    data = data_to_tranform.copy()\n",
    "    #Feature Engineering\n",
    "    data['Aspect2'] = data.Aspect.map(adjust) \n",
    "    data['Energy'] = ((data['Hillshade_9am']+data['Hillshade_Noon'])/2)*10800 + ((data['Hillshade_Noon']+data['Hillshade_3pm'])/2)*10800\n",
    "    data.drop('Hillshade_9am', axis=1, inplace=True)\n",
    "    data.drop('Hillshade_Noon', axis=1, inplace=True)\n",
    "    data.drop('Hillshade_3pm', axis=1, inplace=True)\n",
    "    data['Above_Sea_Level'] = data.Vertical_Distance_To_Hydrology < 0 \n",
    "    data['Vertical_To_Water'] = data.Elevation-data.Vertical_Distance_To_Hydrology \n",
    "    data['Horizontal_To_Water'] = data.Elevation-data.Horizontal_Distance_To_Hydrology*0.2 \n",
    "    data['Pythagorean_To_Water'] = (data['Horizontal_Distance_To_Hydrology']**2+data['Vertical_Distance_To_Hydrology']**2)**0.5 \n",
    "    data['Water_And_Fire'] = data['Horizontal_Distance_To_Hydrology']+data['Horizontal_Distance_To_Fire_Points'] \n",
    "    data['Water_Less_Fire'] = abs(data['Horizontal_Distance_To_Hydrology']-data['Horizontal_Distance_To_Fire_Points']) \n",
    "    data['Water_And_Roadway'] = abs(data['Horizontal_Distance_To_Hydrology']+data['Horizontal_Distance_To_Roadways']) \n",
    "    data['Water_Less_Roadway'] = abs(data['Horizontal_Distance_To_Hydrology']-data['Horizontal_Distance_To_Roadways']) \n",
    "    data['Fire_And_Roadway'] = abs(data['Horizontal_Distance_To_Fire_Points']+data['Horizontal_Distance_To_Roadways']) \n",
    "    data['Fire_Less_Roadway'] = abs(data['Horizontal_Distance_To_Fire_Points']-data['Horizontal_Distance_To_Roadways']) \n",
    "    data['Is_Roadway_Closer_than_Water'] = (data['Horizontal_Distance_To_Roadways'] < data['Horizontal_Distance_To_Hydrology'])\n",
    "    data['Is_Firepoint_Closer_than_Water'] = (data['Horizontal_Distance_To_Fire_Points'] < data['Horizontal_Distance_To_Hydrology'])\n",
    "    # Feature Engineering - Many features multiplied together\n",
    "    data['Extra_1'] = data['Slope'] * data['Horizontal_Distance_To_Hydrology'] * data['Vertical_Distance_To_Hydrology']\n",
    "    #\n",
    "    data['Extra_2'] = data['Horizontal_Distance_To_Fire_Points'] * data['Horizontal_Distance_To_Roadways'] \n",
    "    #\n",
    "    return data\n"
   ]
  },
  {
   "cell_type": "markdown",
   "metadata": {},
   "source": [
    "** Handling Cover_Types 1 and 2 separately - Implementation of Nate's idea **  \n",
    "Here we are retraining the same classifier with the same set of engineered features but only on train data subset on Cover_Types 1 and 2. The idea is to use this classifier to predict Cover_Types only for those test data observations, which were predicted as Cover_Types 1 and 2 by the Global classifier.  \n",
    "This did not improve the accuracy but we are mentioning this here because we think it is interesting.  \n",
    "As the subset classifier is wrapped in a function below (subset_classifier()), so different types of classifiers can be plugged in and tested as well."
   ]
  },
  {
   "cell_type": "code",
   "execution_count": null,
   "metadata": {
    "collapsed": true
   },
   "outputs": [],
   "source": [
    "# Processing Cover_Type 1 and 2 using a separate classifier trained only on Cover_type 1 and 2\n",
    "# Then update global predictions with the subset predictions\n",
    "\n",
    "# Reading data from filesystem\n",
    "train_data = pd.read_csv(os.path.join('train.csv'), header=0)\n",
    "test_data = pd.read_csv(os.path.join('test.csv'), header=0) \n",
    "\n",
    "# Subset of train_data for Cover_Types 1 and 2\n",
    "cover_type_1 = train_data[train_data['Cover_Type']==1]\n",
    "cover_type_2 = train_data[train_data['Cover_Type']==2] \n",
    "cover_type_1_and_2 = pd.concat([cover_type_1, cover_type_2], ignore_index=True)\n",
    "train_labels_subset = cover_type_1_and_2['Cover_Type'].as_matrix() \n",
    "cover_type_1_and_2.drop(['Cover_Type', 'Id'], axis=1, inplace=True)\n",
    "\n",
    "# Subset of test data\n",
    "predicted_1 = np.where(predictions == 1)[0]                       # Index of predictions with Cover_Type==1 \n",
    "predicted_2 = np.where(predictions == 2)[0]                       # Index of predictions with Cover_Type==2   \n",
    "predicted_1_or_2 = np.hstack((predicted_1, predicted_2))\n",
    "test_data_subset = test_data.ix[predicted_1_or_2]\n",
    "test_data_subset.drop(['Id'], axis=1, inplace=True) \n",
    "\n",
    "# Applying feature engineering to train subset\n",
    "train_tranformed_subset = feature_engineering(cover_type_1_and_2)\n",
    "train_matrix_subset = train_tranformed_subset.as_matrix()\n",
    "\n",
    "# Applying feature engineering to test subset\n",
    "test_transformed = feature_engineering(test_data_subset)\n",
    "test_X_subset = test_transformed.as_matrix() \n",
    "\n",
    "# Creating function to classify subset\n",
    "def subset_classifier(train_data, train_labels, test_data):\n",
    "    etc_subset = ExtraTreesClassifier(n_estimators = 600, max_features = 0.3)\n",
    "    adbc_subset = AdaBoostClassifier(etc_subset, n_estimators = 600) \n",
    "    adbc_subset.fit(train_data, train_labels)\n",
    "    predictions_subset = adbc_subset.predict(test_data).astype(int)\n",
    "    return predictions_subset\n",
    "\n",
    "predictions_subset = subset_classifier(train_matrix_subset, train_labels_subset, test_X_subset)\n",
    "\n",
    "# Over writing global predictions with subset predictions\n",
    "# Global predictions is in variable 'predictions'\n",
    "for i, val in enumerate(predicted_1_or_2):\n",
    "    predictions[val] = predictions_subset[i]"
   ]
  }
 ],
 "metadata": {
  "kernelspec": {
   "display_name": "Python 2",
   "language": "python",
   "name": "python2"
  },
  "language_info": {
   "codemirror_mode": {
    "name": "ipython",
    "version": 2
   },
   "file_extension": ".py",
   "mimetype": "text/x-python",
   "name": "python",
   "nbconvert_exporter": "python",
   "pygments_lexer": "ipython2",
   "version": "2.7.9"
  }
 },
 "nbformat": 4,
 "nbformat_minor": 0
}
