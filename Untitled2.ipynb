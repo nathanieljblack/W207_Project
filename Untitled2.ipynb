{
 "cells": [
  {
   "cell_type": "code",
   "execution_count": 1,
   "metadata": {
    "collapsed": false
   },
   "outputs": [],
   "source": [
    "import os\n",
    "import object_storage\n",
    "\n",
    "def get_data():\n",
    "    sl_storage = object_storage.get_client('SLOS535745-2:SL535745', 'cc9c22a804d9278ad378ed457e257b74fd5bfad8c6d3b7af40f17e4f48a66b6f', datacenter='dal05')\n",
    "\n",
    "    # copying the files to the local disk for now\n",
    "    obj = sl_storage.get_object('251_project_data', 'train_128.csv')\n",
    "    obj.save_to_filename('/home/hadoop/train_128.csv')\n",
    "    obj = sl_storage.get_object('251_project_data', 'test_128.csv')\n",
    "    obj.save_to_filename('/home/hadoop/test_128.csv')\n",
    "    \n",
    "if __name__ == '__main__':\n",
    "    get_data()"
   ]
  },
  {
   "cell_type": "code",
   "execution_count": 4,
   "metadata": {
    "collapsed": false
   },
   "outputs": [
    {
     "ename": "ImportError",
     "evalue": "No module named pulp",
     "output_type": "error",
     "traceback": [
      "\u001b[1;31m---------------------------------------------------------------------------\u001b[0m",
      "\u001b[1;31mImportError\u001b[0m                               Traceback (most recent call last)",
      "\u001b[1;32m<ipython-input-4-5a21484edd0a>\u001b[0m in \u001b[0;36m<module>\u001b[1;34m()\u001b[0m\n\u001b[1;32m----> 1\u001b[1;33m \u001b[1;32mfrom\u001b[0m \u001b[0mpulp\u001b[0m \u001b[1;32mimport\u001b[0m \u001b[1;33m*\u001b[0m\u001b[1;33m\u001b[0m\u001b[0m\n\u001b[0m\u001b[0;32m      2\u001b[0m \u001b[1;33m\u001b[0m\u001b[0m\n\u001b[0;32m      3\u001b[0m \u001b[0mprob\u001b[0m \u001b[1;33m=\u001b[0m \u001b[0mLpProblem\u001b[0m\u001b[1;33m(\u001b[0m\u001b[1;34m\"test1\"\u001b[0m\u001b[1;33m,\u001b[0m \u001b[0mLpMinimize\u001b[0m\u001b[1;33m)\u001b[0m\u001b[1;33m\u001b[0m\u001b[0m\n\u001b[0;32m      4\u001b[0m \u001b[1;33m\u001b[0m\u001b[0m\n\u001b[0;32m      5\u001b[0m \u001b[1;31m# Variables\u001b[0m\u001b[1;33m\u001b[0m\u001b[1;33m\u001b[0m\u001b[0m\n",
      "\u001b[1;31mImportError\u001b[0m: No module named pulp"
     ]
    }
   ],
   "source": [
    "from pulp import *\n",
    "\n",
    "prob = LpProblem(\"test1\", LpMinimize)\n",
    "\n",
    "# Variables\n",
    "x = LpVariable(\"x\", 0, 4)\n",
    "y = LpVariable(\"y\", -1, 1)\n",
    "z = LpVariable(\"z\", 0)\n",
    "\n",
    "# Objective\n",
    "prob += x + 4*y + 9*z\n",
    "\n",
    "# Constraints\n",
    "prob += x+y <= 5\n",
    "prob += x+z >= 10\n",
    "prob += -y+z == 7\n",
    "\n",
    "GLPK().solve(prob)\n",
    "\n",
    "# Solution\n",
    "for v in prob.variables():\n",
    "    print v.name, \"=\", v.varValue\n",
    "\n",
    "print \"objective=\", value(prob.objective)  "
   ]
  },
  {
   "cell_type": "code",
   "execution_count": null,
   "metadata": {
    "collapsed": true
   },
   "outputs": [],
   "source": []
  }
 ],
 "metadata": {
  "kernelspec": {
   "display_name": "Python 2",
   "language": "python",
   "name": "python2"
  },
  "language_info": {
   "codemirror_mode": {
    "name": "ipython",
    "version": 2
   },
   "file_extension": ".py",
   "mimetype": "text/x-python",
   "name": "python",
   "nbconvert_exporter": "python",
   "pygments_lexer": "ipython2",
   "version": "2.7.10"
  }
 },
 "nbformat": 4,
 "nbformat_minor": 0
}
