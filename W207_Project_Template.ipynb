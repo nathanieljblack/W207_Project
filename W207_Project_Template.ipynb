{
 "cells": [
  {
   "cell_type": "markdown",
   "metadata": {},
   "source": [
    "# W207.5 Group Project \n",
    "\n",
    "## Nate Black, Vineet Gangwar, Jared Maslin, Malini Mittal\n",
    "## Kaggle Competition - \"Forest Cover Type Prediction\"\n",
    "## MIDS Summer 2015 Term"
   ]
  },
  {
   "cell_type": "markdown",
   "metadata": {},
   "source": [
    "## Section 1: Description of Kaggle Competition (with background and goal)"
   ]
  },
  {
   "cell_type": "markdown",
   "metadata": {
    "collapsed": true
   },
   "source": [
    "###Competition Description: the data and the goal\n",
    "This competition seeks to predict the forest cover type from strictly cartographic variables. The actual forest cover type for a given 30m x 30m patch was determined from US Forest Service (USFS) Region 2 Resource Information System data. Independent variables were then derived from data obtained from the US Geological Survey and USFS. The data is in raw form (not scaled) and contains binary columns of data for qualitative independent variables such as wilderness areas and soil type.   \n",
    "   \n",
    "The dataset was provided by Jock A. Blackard and Colorado State University, and is hosted by UCI machine learning repository.  \n",
    "    \n",
    "The study area includes four wilderness areas located in the Roosevelt National Forest of northern Colorado. The goal is to predict an integer classification for the forest cover type. The seven types are:    \n",
    "    \n",
    "1. Spruce/Fir\n",
    "2. Lodgepole Pine\n",
    "3. Ponderosa Pine\n",
    "4. Cottonwood/Willow\n",
    "5. Aspen\n",
    "6. Douglas-fir\n",
    "7. Krummholz\n",
    "     \n",
    "The training set (15120 observations) contains both features and the Cover_Type. The test set contains only the features.\n",
    "\n",
    "###Data Fields\n",
    "   \n",
    "* Elevation - Elevation in meters   \n",
    "* Aspect - Aspect in degrees azimuth    \n",
    "* Slope - Slope in degrees   \n",
    "* Horizontal_Distance_To_Hydrology - Horz Dist to nearest surface water features   \n",
    "* Vertical_Distance_To_Hydrology - Vert Dist to nearest surface water features   \n",
    "* Horizontal_Distance_To_Roadways - Horz Dist to nearest roadway   \n",
    "* Hillshade_9am (0 to 255 index) - Hillshade index at 9am, summer solstice   \n",
    "* Hillshade_Noon (0 to 255 index) - Hillshade index at noon, summer solstice   \n",
    "* Hillshade_3pm (0 to 255 index) - Hillshade index at 3pm, summer solstice   \n",
    "* Horizontal_Distance_To_Fire_Points - Horz Dist to nearest wildfire ignition points   \n",
    "* Wilderness_Area (4 binary columns, 0 = absence or 1 = presence) - Wilderness area designation\n",
    "* Soil_Type (40 binary columns, 0 = absence or 1 = presence) - Soil Type designation   \n",
    "* Cover_Type (7 types, integers 1 to 7) - Forest Cover Type designation   \n"
   ]
  },
  {
   "cell_type": "code",
   "execution_count": 2,
   "metadata": {
    "collapsed": false
   },
   "outputs": [],
   "source": [
    "#Import the data\n",
    "import pandas as pd\n",
    "import numpy as np\n",
    "\n",
    "frame = pd.read_csv('train.csv')\n",
    "test_frame = pd.read_csv('test.csv')\n",
    "\n",
    "data = frame.values\n",
    "y, X = data[:, -1:], data[:, :-1]\n",
    "\n",
    "y_train, X_train = y[:12000], X[:12000, :]\n",
    "y_train = np.hstack(y_train)\n",
    "y_train = y_train.astype('int64')\n",
    "\n",
    "y_dev, X_dev = y[12000:], X[12000:]\n",
    "y_dev = np.hstack(y_dev)\n",
    "y_dev = y_dev.astype('int64')\n",
    "\n",
    "test_data = test_frame.values"
   ]
  },
  {
   "cell_type": "markdown",
   "metadata": {},
   "source": [
    "## Section 2: Data Exploration and Reflection"
   ]
  },
  {
   "cell_type": "code",
   "execution_count": null,
   "metadata": {
    "collapsed": true
   },
   "outputs": [],
   "source": [
    "# Use this section to walk through any data summaries, graphs, or charts that can add value to the reader"
   ]
  },
  {
   "cell_type": "code",
   "execution_count": null,
   "metadata": {
    "collapsed": true
   },
   "outputs": [],
   "source": [
    "# Use this section to reflect upon data exploration and what it means to our initial approach in the next section"
   ]
  },
  {
   "cell_type": "markdown",
   "metadata": {},
   "source": [
    "## Section 3: Establish a baseline score (KNN estimator to start?)"
   ]
  },
  {
   "cell_type": "code",
   "execution_count": null,
   "metadata": {
    "collapsed": true
   },
   "outputs": [],
   "source": [
    "# Potential examples: Multinomial NB, Gradient Descent, Random Forest"
   ]
  },
  {
   "cell_type": "code",
   "execution_count": null,
   "metadata": {
    "collapsed": true
   },
   "outputs": [],
   "source": []
  },
  {
   "cell_type": "code",
   "execution_count": null,
   "metadata": {
    "collapsed": true
   },
   "outputs": [],
   "source": [
    "# Use this section to reflect upon the results from our baseline (briefly)"
   ]
  },
  {
   "cell_type": "markdown",
   "metadata": {},
   "source": [
    "## Section 4: Feature Engineering"
   ]
  },
  {
   "cell_type": "markdown",
   "metadata": {},
   "source": [
    "## Consider introducing new features to show potential interactions between existing variables...\n",
    "\n",
    "    # Ex. Combined distance from fire, hydro, and roadways\n",
    "    # Ex. Change in shade throughout the day (either average shade rating or level of flux between periods)\n",
    "    # Ex. Reduce the aspect ratio from 360 to 180 degrees azimuth\n",
    "    # Ex. Other ideas?"
   ]
  },
  {
   "cell_type": "code",
   "execution_count": null,
   "metadata": {
    "collapsed": true
   },
   "outputs": [],
   "source": []
  },
  {
   "cell_type": "markdown",
   "metadata": {},
   "source": [
    "## Section 5: Explore alternative techniques & classifiers"
   ]
  },
  {
   "cell_type": "code",
   "execution_count": null,
   "metadata": {
    "collapsed": true
   },
   "outputs": [],
   "source": [
    "# Establish, run, and reflect upon the results of each method (allowing the reader to see our thought process)"
   ]
  },
  {
   "cell_type": "code",
   "execution_count": null,
   "metadata": {
    "collapsed": true
   },
   "outputs": [],
   "source": []
  },
  {
   "cell_type": "markdown",
   "metadata": {},
   "source": [
    "## Section 6: What have we found? What didn't work and what did work? Why?"
   ]
  },
  {
   "cell_type": "code",
   "execution_count": null,
   "metadata": {
    "collapsed": true
   },
   "outputs": [],
   "source": []
  },
  {
   "cell_type": "markdown",
   "metadata": {},
   "source": [
    "## Section 7: Detail the Kaggle submissions (with score) and clearly mark the final entry\n"
   ]
  },
  {
   "cell_type": "code",
   "execution_count": null,
   "metadata": {
    "collapsed": true
   },
   "outputs": [],
   "source": []
  },
  {
   "cell_type": "markdown",
   "metadata": {},
   "source": [
    "## Section 8: What else could we do to improve? Any \"perfect world\" ideas (even if not plausible with time allotted)? "
   ]
  },
  {
   "cell_type": "code",
   "execution_count": null,
   "metadata": {
    "collapsed": true
   },
   "outputs": [],
   "source": []
  }
 ],
 "metadata": {
  "kernelspec": {
   "display_name": "Python 2",
   "language": "python",
   "name": "python2"
  },
  "language_info": {
   "codemirror_mode": {
    "name": "ipython",
    "version": 2
   },
   "file_extension": ".py",
   "mimetype": "text/x-python",
   "name": "python",
   "nbconvert_exporter": "python",
   "pygments_lexer": "ipython2",
   "version": "2.7.6"
  }
 },
 "nbformat": 4,
 "nbformat_minor": 0
}
