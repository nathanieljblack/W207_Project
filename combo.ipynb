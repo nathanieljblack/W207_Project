{
 "cells": [
  {
   "cell_type": "code",
   "execution_count": 1,
   "metadata": {
    "collapsed": false
   },
   "outputs": [
    {
     "name": "stdout",
     "output_type": "stream",
     "text": [
      "(15120, 56)\n",
      "(565892, 55)\n"
     ]
    }
   ],
   "source": [
    "%matplotlib inline\n",
    "\n",
    "import numpy as np\n",
    "import pandas as pd\n",
    "import matplotlib.pyplot as plt\n",
    "import seaborn as sns\n",
    "\n",
    "from sklearn.ensemble import ExtraTreesClassifier \n",
    "from sklearn.ensemble import RandomForestClassifier\n",
    "from sklearn.svm import SVC\n",
    "from sklearn.linear_model import LogisticRegression\n",
    "from sklearn.neighbors import KNeighborsClassifier\n",
    "from sklearn.tree import DecisionTreeClassifier\n",
    "from sklearn.ensemble import AdaBoostClassifier\n",
    "from sklearn.ensemble import GradientBoostingClassifier\n",
    "from sklearn import preprocessing\n",
    "from sklearn import metrics\n",
    "from sklearn.learning_curve import learning_curve\n",
    "from sklearn.grid_search import RandomizedSearchCV\n",
    "\n",
    "frame = pd.read_csv('/home/nate_black/Dropbox/MIDS/ML/Project/train.csv')\n",
    "frame = frame.reindex(np.random.permutation(frame.index))\n",
    "print frame.shape\n",
    "test_frame = pd.read_csv('/home/nate_black/Dropbox/MIDS/ML/Project/test.csv')\n",
    "print test_frame.shape\n",
    "\n",
    "test_ids = test_frame['Id'].values\n",
    "\n",
    "frame = frame.drop(['Id'], 1)\n",
    "test_frame = test_frame.drop(['Id'], 1)\n",
    "\n",
    "frame_cover_type = frame['Cover_Type'].values\n",
    "frame = frame.drop(['Cover_Type'], 1)\n",
    "\n",
    "X = frame.values\n",
    "y = frame_cover_type\n",
    "\n",
    "n = int(X.shape[0] * 0.8)\n",
    "y_train, X_train = y[:n], X[:n, :]\n",
    "y_train = np.hstack(y_train)\n",
    "\n",
    "y_dev, X_dev = y[n:], X[n:]\n",
    "y_dev = np.hstack(y_dev)"
   ]
  },
  {
   "cell_type": "code",
   "execution_count": 2,
   "metadata": {
    "collapsed": true
   },
   "outputs": [],
   "source": [
    "train_data = pd.read_csv('train.csv')\n",
    "test_data = pd.read_csv('test.csv')\n",
    "\n",
    "train_data_scaled = train_data.copy()\n",
    "test_data_scaled = test_data.copy()\n",
    "\n",
    "del train_data_scaled['Cover_Type']\n",
    "del train_data_scaled['Id']\n",
    "del test_data_scaled['Id']\n",
    "\n",
    "min_max_scaler = preprocessing.MinMaxScaler()\n",
    "\n",
    "for col in train_data_scaled.keys():\n",
    "    x = train_data_scaled[col].values.astype(float)\n",
    "    train_data_scaled[col] = preprocessing.scale(min_max_scaler.fit_transform(x))\n",
    "    y = test_data_scaled[col].values.astype(float)\n",
    "    test_data_scaled[col] = preprocessing.scale(min_max_scaler.transform(y))"
   ]
  },
  {
   "cell_type": "code",
   "execution_count": 3,
   "metadata": {
    "collapsed": false
   },
   "outputs": [
    {
     "data": {
      "text/plain": [
       "array([[1651,  303,    1,    0,   74,    9,  122],\n",
       "       [ 388, 1420,   50,    1,  228,   58,   15],\n",
       "       [   0,   10, 1516,  209,   26,  399,    0],\n",
       "       [   0,    0,   46, 2077,    0,   37,    0],\n",
       "       [   5,  108,   68,    0, 1937,   42,    0],\n",
       "       [   1,   17,  342,  129,   14, 1657,    0],\n",
       "       [  98,    5,    0,    0,    0,    0, 2057]])"
      ]
     },
     "execution_count": 3,
     "metadata": {},
     "output_type": "execute_result"
    }
   ],
   "source": [
    "from sklearn.svm import SVC\n",
    "\n",
    "svc = SVC(C = 6, gamma= 0.02, probability=True)\n",
    "svc.fit(train_data_scaled, train_data['Cover_Type'].values)\n",
    "svc.score(train_data_scaled, train_data['Cover_Type'].values)\n",
    "pred = svc.predict(train_data_scaled)\n",
    "metrics.confusion_matrix(train_data['Cover_Type'], pred)"
   ]
  },
  {
   "cell_type": "code",
   "execution_count": 4,
   "metadata": {
    "collapsed": false
   },
   "outputs": [
    {
     "data": {
      "text/plain": [
       "array([[2159,    0,    0,    0,    1,    0,    0],\n",
       "       [   0, 2154,    0,    0,    6,    0,    0],\n",
       "       [   0,    0, 2160,    0,    0,    0,    0],\n",
       "       [   0,    0,    0, 2160,    0,    0,    0],\n",
       "       [   0,    0,    0,    0, 2160,    0,    0],\n",
       "       [   0,    0,    0,    0,    0, 2160,    0],\n",
       "       [   0,    0,    0,    0,    0,    0, 2160]])"
      ]
     },
     "execution_count": 4,
     "metadata": {},
     "output_type": "execute_result"
    }
   ],
   "source": [
    "rfc = RandomForestClassifier(n_estimators=400, max_features=10, max_depth=20, criterion='entropy')\n",
    "rfc.fit(train_data_scaled, train_data['Cover_Type'].values)\n",
    "pred_dev = rfc.predict(train_data_scaled)\n",
    "metrics.confusion_matrix(train_data['Cover_Type'], pred_dev)"
   ]
  },
  {
   "cell_type": "code",
   "execution_count": 64,
   "metadata": {
    "collapsed": false
   },
   "outputs": [],
   "source": [
    "rf_prob = rfc.predict_proba(train_data_scaled)\n",
    "sv_prob = svc.predict_proba(train_data_scaled)\n",
    "\n",
    "df = pd.DataFrame(train_data['Cover_Type'].values, columns = ['Actual_Cover_Type'])\n",
    "df['SVC_Prediction'] = pred\n",
    "df['RF_Prediction'] = pred_dev\n",
    "df['SVC_Prob'] = np.max(sv_prob, axis = 1)*100\n",
    "df['RF_Prob'] = np.max(rf_prob, axis = 1)*100\n",
    "df['Combo'] = np.where((df.SVC_Prob > 50.0) & (df.RF_Prob < 50.0) & (df.RF_Prediction < 3), df.SVC_Prediction, df.RF_Prediction)\n",
    "\n"
   ]
  },
  {
   "cell_type": "code",
   "execution_count": 65,
   "metadata": {
    "collapsed": false
   },
   "outputs": [
    {
     "data": {
      "text/html": [
       "<div style=\"max-height:1000px;max-width:1500px;overflow:auto;\">\n",
       "<table border=\"1\" class=\"dataframe\">\n",
       "  <thead>\n",
       "    <tr style=\"text-align: right;\">\n",
       "      <th></th>\n",
       "      <th>Actual_Cover_Type</th>\n",
       "      <th>SVC_Prediction</th>\n",
       "      <th>RF_Prediction</th>\n",
       "      <th>SVC_Prob</th>\n",
       "      <th>RF_Prob</th>\n",
       "      <th>Combo</th>\n",
       "    </tr>\n",
       "  </thead>\n",
       "  <tbody>\n",
       "    <tr>\n",
       "      <th>5 </th>\n",
       "      <td> 2</td>\n",
       "      <td> 5</td>\n",
       "      <td> 2</td>\n",
       "      <td> 55.507239</td>\n",
       "      <td> 75.00</td>\n",
       "      <td> 2</td>\n",
       "    </tr>\n",
       "    <tr>\n",
       "      <th>15</th>\n",
       "      <td> 5</td>\n",
       "      <td> 2</td>\n",
       "      <td> 5</td>\n",
       "      <td> 89.333614</td>\n",
       "      <td> 86.75</td>\n",
       "      <td> 5</td>\n",
       "    </tr>\n",
       "    <tr>\n",
       "      <th>39</th>\n",
       "      <td> 5</td>\n",
       "      <td> 2</td>\n",
       "      <td> 5</td>\n",
       "      <td> 90.423881</td>\n",
       "      <td> 70.75</td>\n",
       "      <td> 5</td>\n",
       "    </tr>\n",
       "    <tr>\n",
       "      <th>43</th>\n",
       "      <td> 5</td>\n",
       "      <td> 1</td>\n",
       "      <td> 5</td>\n",
       "      <td> 75.798356</td>\n",
       "      <td> 64.75</td>\n",
       "      <td> 5</td>\n",
       "    </tr>\n",
       "    <tr>\n",
       "      <th>51</th>\n",
       "      <td> 1</td>\n",
       "      <td> 2</td>\n",
       "      <td> 1</td>\n",
       "      <td> 57.830246</td>\n",
       "      <td> 70.50</td>\n",
       "      <td> 1</td>\n",
       "    </tr>\n",
       "  </tbody>\n",
       "</table>\n",
       "</div>"
      ],
      "text/plain": [
       "    Actual_Cover_Type  SVC_Prediction  RF_Prediction   SVC_Prob  RF_Prob  \\\n",
       "5                   2               5              2  55.507239    75.00   \n",
       "15                  5               2              5  89.333614    86.75   \n",
       "39                  5               2              5  90.423881    70.75   \n",
       "43                  5               1              5  75.798356    64.75   \n",
       "51                  1               2              1  57.830246    70.50   \n",
       "\n",
       "    Combo  \n",
       "5       2  \n",
       "15      5  \n",
       "39      5  \n",
       "43      5  \n",
       "51      1  "
      ]
     },
     "execution_count": 65,
     "metadata": {},
     "output_type": "execute_result"
    }
   ],
   "source": [
    "df[df.SVC_Prediction != df.RF_Prediction].head()"
   ]
  },
  {
   "cell_type": "code",
   "execution_count": 66,
   "metadata": {
    "collapsed": false
   },
   "outputs": [
    {
     "name": "stdout",
     "output_type": "stream",
     "text": [
      "[[2160    0    0    0    0    0    0]\n",
      " [   0 2160    0    0    0    0    0]\n",
      " [   0    0 2160    0    0    0    0]\n",
      " [   0    0    0 2160    0    0    0]\n",
      " [   0    0    0    0 2160    0    0]\n",
      " [   0    0    0    0    0 2160    0]\n",
      " [   0    0    0    0    0    0 2160]]\n",
      "1.0\n"
     ]
    }
   ],
   "source": [
    "print metrics.confusion_matrix(train_data['Cover_Type'], df['Combo'])\n",
    "print metrics.accuracy_score(train_data['Cover_Type'], df['Combo'])"
   ]
  },
  {
   "cell_type": "code",
   "execution_count": 5,
   "metadata": {
    "collapsed": false
   },
   "outputs": [],
   "source": [
    "rf_pred_test = rfc.predict(test_data_scaled)"
   ]
  },
  {
   "cell_type": "code",
   "execution_count": 6,
   "metadata": {
    "collapsed": true
   },
   "outputs": [],
   "source": [
    "out = pd.DataFrame(test_data.Id, columns=['Id'])\n",
    "out['Cover_Type'] = rf_pred_test\n",
    "out.to_csv('scaled_rf.csv', index = False, index_col = False)"
   ]
  },
  {
   "cell_type": "code",
   "execution_count": null,
   "metadata": {
    "collapsed": true
   },
   "outputs": [],
   "source": []
  }
 ],
 "metadata": {
  "kernelspec": {
   "display_name": "Python 2",
   "language": "python",
   "name": "python2"
  },
  "language_info": {
   "codemirror_mode": {
    "name": "ipython",
    "version": 2
   },
   "file_extension": ".py",
   "mimetype": "text/x-python",
   "name": "python",
   "nbconvert_exporter": "python",
   "pygments_lexer": "ipython2",
   "version": "2.7.10"
  }
 },
 "nbformat": 4,
 "nbformat_minor": 0
}
