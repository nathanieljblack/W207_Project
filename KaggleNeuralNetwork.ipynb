{
 "cells": [
  {
   "cell_type": "code",
   "execution_count": 1,
   "metadata": {
    "collapsed": false
   },
   "outputs": [],
   "source": [
    "%matplotlib inline\n",
    "import numpy as np\n",
    "from sklearn.metrics import classification_report\n",
    "from sklearn import preprocessing\n",
    "import time\n",
    "import theano \n",
    "from theano import tensor as T\n",
    "from theano.sandbox.rng_mrg import MRG_RandomStreams as RandomStreams\n",
    "import matplotlib.pyplot as plt\n",
    "import pandas as pd\n",
    "import seaborn as sns\n"
   ]
  },
  {
   "cell_type": "code",
   "execution_count": 2,
   "metadata": {
    "collapsed": false
   },
   "outputs": [],
   "source": [
    "train_data = pd.read_csv('train.csv')\n",
    "test_data = pd.read_csv('test.csv')\n",
    "\n",
    "def binarizeY(data):\n",
    "    binarized_data = np.zeros((data.size,8))\n",
    "    for j in range(0,data.size):\n",
    "        feature = data[j:j+1]\n",
    "        i = feature.astype(np.int64) \n",
    "        binarized_data[j,i]=1\n",
    "    return binarized_data\n",
    "\n",
    "train_labels_b = binarizeY(train_data.Cover_Type)\n",
    "\n",
    "train_data_scaled = train_data.copy()\n",
    "test_data_scaled = test_data.copy()\n",
    "\n",
    "del train_data_scaled['Cover_Type']\n",
    "del train_data_scaled['Id']\n",
    "\n",
    "min_max_scaler = preprocessing.MinMaxScaler()\n",
    "\n",
    "for col in train_data_scaled.keys():\n",
    "    x = train_data_scaled[col].values.astype(float)\n",
    "    train_data_scaled[col] = preprocessing.scale(min_max_scaler.fit_transform(x))"
   ]
  },
  {
   "cell_type": "code",
   "execution_count": 3,
   "metadata": {
    "collapsed": false
   },
   "outputs": [
    {
     "data": {
      "text/html": [
       "<div style=\"max-height:1000px;max-width:1500px;overflow:auto;\">\n",
       "<table border=\"1\" class=\"dataframe\">\n",
       "  <thead>\n",
       "    <tr style=\"text-align: right;\">\n",
       "      <th></th>\n",
       "      <th>Elevation</th>\n",
       "      <th>Aspect</th>\n",
       "      <th>Slope</th>\n",
       "      <th>Horizontal_Distance_To_Hydrology</th>\n",
       "      <th>Vertical_Distance_To_Hydrology</th>\n",
       "      <th>Horizontal_Distance_To_Roadways</th>\n",
       "      <th>Hillshade_9am</th>\n",
       "      <th>Hillshade_Noon</th>\n",
       "      <th>Hillshade_3pm</th>\n",
       "      <th>Horizontal_Distance_To_Fire_Points</th>\n",
       "      <th>...</th>\n",
       "      <th>Soil_Type31</th>\n",
       "      <th>Soil_Type32</th>\n",
       "      <th>Soil_Type33</th>\n",
       "      <th>Soil_Type34</th>\n",
       "      <th>Soil_Type35</th>\n",
       "      <th>Soil_Type36</th>\n",
       "      <th>Soil_Type37</th>\n",
       "      <th>Soil_Type38</th>\n",
       "      <th>Soil_Type39</th>\n",
       "      <th>Soil_Type40</th>\n",
       "    </tr>\n",
       "  </thead>\n",
       "  <tbody>\n",
       "    <tr>\n",
       "      <th>0</th>\n",
       "      <td>-0.367095</td>\n",
       "      <td>-0.959980</td>\n",
       "      <td>-1.597132</td>\n",
       "      <td> 0.146639</td>\n",
       "      <td>-0.834074</td>\n",
       "      <td>-0.908681</td>\n",
       "      <td> 0.271454</td>\n",
       "      <td> 0.571653</td>\n",
       "      <td> 0.281259</td>\n",
       "      <td> 4.334805</td>\n",
       "      <td>...</td>\n",
       "      <td>-0.149835</td>\n",
       "      <td>-0.218671</td>\n",
       "      <td>-0.206085</td>\n",
       "      <td>-0.038173</td>\n",
       "      <td>-0.082413</td>\n",
       "      <td>-0.025726</td>\n",
       "      <td>-0.047474</td>\n",
       "      <td>-0.224908</td>\n",
       "      <td>-0.213134</td>\n",
       "      <td>-0.176939</td>\n",
       "    </tr>\n",
       "    <tr>\n",
       "      <th>1</th>\n",
       "      <td>-0.381461</td>\n",
       "      <td>-0.914559</td>\n",
       "      <td>-1.715424</td>\n",
       "      <td>-0.072337</td>\n",
       "      <td>-0.932054</td>\n",
       "      <td>-0.999246</td>\n",
       "      <td> 0.238732</td>\n",
       "      <td> 0.703225</td>\n",
       "      <td> 0.346627</td>\n",
       "      <td> 4.285710</td>\n",
       "      <td>...</td>\n",
       "      <td>-0.149835</td>\n",
       "      <td>-0.218671</td>\n",
       "      <td>-0.206085</td>\n",
       "      <td>-0.038173</td>\n",
       "      <td>-0.082413</td>\n",
       "      <td>-0.025726</td>\n",
       "      <td>-0.047474</td>\n",
       "      <td>-0.224908</td>\n",
       "      <td>-0.213134</td>\n",
       "      <td>-0.176939</td>\n",
       "    </tr>\n",
       "    <tr>\n",
       "      <th>2</th>\n",
       "      <td> 0.130912</td>\n",
       "      <td>-0.160577</td>\n",
       "      <td>-0.887379</td>\n",
       "      <td> 0.194243</td>\n",
       "      <td> 0.227369</td>\n",
       "      <td> 1.106379</td>\n",
       "      <td> 0.696843</td>\n",
       "      <td> 0.834797</td>\n",
       "      <td>-0.002005</td>\n",
       "      <td> 4.191156</td>\n",
       "      <td>...</td>\n",
       "      <td>-0.149835</td>\n",
       "      <td>-0.218671</td>\n",
       "      <td>-0.206085</td>\n",
       "      <td>-0.038173</td>\n",
       "      <td>-0.082413</td>\n",
       "      <td>-0.025726</td>\n",
       "      <td>-0.047474</td>\n",
       "      <td>-0.224908</td>\n",
       "      <td>-0.213134</td>\n",
       "      <td>-0.176939</td>\n",
       "    </tr>\n",
       "    <tr>\n",
       "      <th>3</th>\n",
       "      <td> 0.085421</td>\n",
       "      <td>-0.015231</td>\n",
       "      <td> 0.177250</td>\n",
       "      <td> 0.070474</td>\n",
       "      <td> 1.092853</td>\n",
       "      <td> 1.038455</td>\n",
       "      <td> 0.827731</td>\n",
       "      <td> 0.834797</td>\n",
       "      <td>-0.285268</td>\n",
       "      <td> 4.272981</td>\n",
       "      <td>...</td>\n",
       "      <td>-0.149835</td>\n",
       "      <td>-0.218671</td>\n",
       "      <td>-0.206085</td>\n",
       "      <td>-0.038173</td>\n",
       "      <td>-0.082413</td>\n",
       "      <td>-0.025726</td>\n",
       "      <td>-0.047474</td>\n",
       "      <td>-0.224908</td>\n",
       "      <td>-0.213134</td>\n",
       "      <td>-0.176939</td>\n",
       "    </tr>\n",
       "    <tr>\n",
       "      <th>4</th>\n",
       "      <td>-0.369489</td>\n",
       "      <td>-1.014485</td>\n",
       "      <td>-1.715424</td>\n",
       "      <td>-0.353198</td>\n",
       "      <td>-0.850404</td>\n",
       "      <td>-0.998491</td>\n",
       "      <td> 0.238732</td>\n",
       "      <td> 0.659368</td>\n",
       "      <td> 0.324838</td>\n",
       "      <td> 4.237524</td>\n",
       "      <td>...</td>\n",
       "      <td>-0.149835</td>\n",
       "      <td>-0.218671</td>\n",
       "      <td>-0.206085</td>\n",
       "      <td>-0.038173</td>\n",
       "      <td>-0.082413</td>\n",
       "      <td>-0.025726</td>\n",
       "      <td>-0.047474</td>\n",
       "      <td>-0.224908</td>\n",
       "      <td>-0.213134</td>\n",
       "      <td>-0.176939</td>\n",
       "    </tr>\n",
       "  </tbody>\n",
       "</table>\n",
       "<p>5 rows × 54 columns</p>\n",
       "</div>"
      ],
      "text/plain": [
       "   Elevation    Aspect     Slope  Horizontal_Distance_To_Hydrology  \\\n",
       "0  -0.367095 -0.959980 -1.597132                          0.146639   \n",
       "1  -0.381461 -0.914559 -1.715424                         -0.072337   \n",
       "2   0.130912 -0.160577 -0.887379                          0.194243   \n",
       "3   0.085421 -0.015231  0.177250                          0.070474   \n",
       "4  -0.369489 -1.014485 -1.715424                         -0.353198   \n",
       "\n",
       "   Vertical_Distance_To_Hydrology  Horizontal_Distance_To_Roadways  \\\n",
       "0                       -0.834074                        -0.908681   \n",
       "1                       -0.932054                        -0.999246   \n",
       "2                        0.227369                         1.106379   \n",
       "3                        1.092853                         1.038455   \n",
       "4                       -0.850404                        -0.998491   \n",
       "\n",
       "   Hillshade_9am  Hillshade_Noon  Hillshade_3pm  \\\n",
       "0       0.271454        0.571653       0.281259   \n",
       "1       0.238732        0.703225       0.346627   \n",
       "2       0.696843        0.834797      -0.002005   \n",
       "3       0.827731        0.834797      -0.285268   \n",
       "4       0.238732        0.659368       0.324838   \n",
       "\n",
       "   Horizontal_Distance_To_Fire_Points     ...       Soil_Type31  Soil_Type32  \\\n",
       "0                            4.334805     ...         -0.149835    -0.218671   \n",
       "1                            4.285710     ...         -0.149835    -0.218671   \n",
       "2                            4.191156     ...         -0.149835    -0.218671   \n",
       "3                            4.272981     ...         -0.149835    -0.218671   \n",
       "4                            4.237524     ...         -0.149835    -0.218671   \n",
       "\n",
       "   Soil_Type33  Soil_Type34  Soil_Type35  Soil_Type36  Soil_Type37  \\\n",
       "0    -0.206085    -0.038173    -0.082413    -0.025726    -0.047474   \n",
       "1    -0.206085    -0.038173    -0.082413    -0.025726    -0.047474   \n",
       "2    -0.206085    -0.038173    -0.082413    -0.025726    -0.047474   \n",
       "3    -0.206085    -0.038173    -0.082413    -0.025726    -0.047474   \n",
       "4    -0.206085    -0.038173    -0.082413    -0.025726    -0.047474   \n",
       "\n",
       "   Soil_Type38  Soil_Type39  Soil_Type40  \n",
       "0    -0.224908    -0.213134    -0.176939  \n",
       "1    -0.224908    -0.213134    -0.176939  \n",
       "2    -0.224908    -0.213134    -0.176939  \n",
       "3    -0.224908    -0.213134    -0.176939  \n",
       "4    -0.224908    -0.213134    -0.176939  \n",
       "\n",
       "[5 rows x 54 columns]"
      ]
     },
     "execution_count": 3,
     "metadata": {},
     "output_type": "execute_result"
    }
   ],
   "source": [
    "train_data_scaled.head()"
   ]
  },
  {
   "cell_type": "code",
   "execution_count": 4,
   "metadata": {
    "collapsed": false
   },
   "outputs": [],
   "source": [
    "test_data_scaled = test_data.copy()\n",
    "\n",
    "del test_data_scaled['Id']\n",
    "\n",
    "for col in test_data_scaled.keys():\n",
    "    x = test_data_scaled[col].values.astype(float)\n",
    "    test_data_scaled[col] = preprocessing.scale(min_max_scaler.fit_transform(x))\n"
   ]
  },
  {
   "cell_type": "code",
   "execution_count": 7,
   "metadata": {
    "collapsed": false
   },
   "outputs": [
    {
     "name": "stdout",
     "output_type": "stream",
     "text": [
      "train time = 538179.53\n",
      "predict time = 11.55\n"
     ]
    }
   ],
   "source": [
    "numFeatures = train_data_scaled.shape[1]\n",
    "numClasses = train_labels_b[1].size\n",
    "numHiddenNodes = 600 \n",
    "w_1 = theano.shared(np.asarray((np.random.randn(*(numFeatures, numHiddenNodes))*.01)))\n",
    "w_2 = theano.shared(np.asarray((np.random.randn(*(numHiddenNodes, numClasses))*.01)))\n",
    "params = [w_1, w_2]\n",
    "\n",
    "\n",
    "## (2) Model\n",
    "X = T.matrix()\n",
    "Y = T.matrix()\n",
    "# Two notes:\n",
    "# First, feed forward is the composition of layers (dot product + activation function)\n",
    "# Second, activation on the hidden layer still uses sigmoid\n",
    "def model(X, w_1, w_2):\n",
    "    return T.nnet.softmax(T.dot(T.nnet.sigmoid(T.dot(X, w_1)), w_2))\n",
    "y_hat = model(X, w_1, w_2)\n",
    "\n",
    "\n",
    "## (3) Cost...same as logistic regression\n",
    "cost = T.mean(T.nnet.categorical_crossentropy(y_hat, Y))\n",
    "\n",
    "\n",
    "## (4) Minimization.  Update rule changes to backpropagation.\n",
    "alpha = 0.01\n",
    "def backprop(cost, w):\n",
    "    grads = T.grad(cost=cost, wrt=w)\n",
    "    updates = []\n",
    "    for w1, grad in zip(w, grads):\n",
    "        updates.append([w1, w1 - grad * alpha])\n",
    "    return updates\n",
    "update = backprop(cost, params)\n",
    "train = theano.function(inputs=[X, Y], outputs=cost, updates=update, allow_input_downcast=True)\n",
    "y_pred = T.argmax(y_hat, axis=1)\n",
    "predict = theano.function(inputs=[X], outputs=y_pred, allow_input_downcast=True)\n",
    "\n",
    "miniBatchSize = 1 \n",
    "def gradientDescentStochastic(epochs):\n",
    "    trainTime = 0.0\n",
    "    predictTime = 0.0\n",
    "    start_time = time.time()\n",
    "    for i in range(epochs):\n",
    "        for start, end in zip(range(0, len(train_data_scaled), miniBatchSize), range(miniBatchSize, len(train_data), miniBatchSize)):\n",
    "            cost = train(train_data_scaled[start:end], train_labels_b[start:end])\n",
    "        trainTime =  trainTime + (time.time() - start_time)\n",
    "        pred = predict(test_data_scaled)\n",
    "    print 'train time = %.2f' %(trainTime)\n",
    "    return pred\n",
    "\n",
    "pred = gradientDescentStochastic(200)\n",
    "\n",
    "start_time = time.time()\n",
    "predict(test_data_scaled)   \n",
    "print 'predict time = %.2f' %(time.time() - start_time)"
   ]
  },
  {
   "cell_type": "code",
   "execution_count": 8,
   "metadata": {
    "collapsed": false
   },
   "outputs": [
    {
     "data": {
      "text/plain": [
       "array([4, 4, 4, 4, 4, 4, 4, 4, 4, 4])"
      ]
     },
     "execution_count": 8,
     "metadata": {},
     "output_type": "execute_result"
    }
   ],
   "source": [
    "pred[:10]"
   ]
  },
  {
   "cell_type": "code",
   "execution_count": 10,
   "metadata": {
    "collapsed": false
   },
   "outputs": [],
   "source": [
    "test_data.head()\n",
    "output = pd.DataFrame(test_data['Id'], columns=['Id'])\n",
    "output['Cover_Type'] = pred"
   ]
  },
  {
   "cell_type": "code",
   "execution_count": 11,
   "metadata": {
    "collapsed": true
   },
   "outputs": [],
   "source": [
    "output.to_csv('nn.csv', index = False, index_label = False)"
   ]
  },
  {
   "cell_type": "code",
   "execution_count": 2,
   "metadata": {
    "collapsed": false
   },
   "outputs": [
    {
     "data": {
      "text/plain": [
       "16384"
      ]
     },
     "execution_count": 2,
     "metadata": {},
     "output_type": "execute_result"
    }
   ],
   "source": [
    "1024*16"
   ]
  },
  {
   "cell_type": "code",
   "execution_count": null,
   "metadata": {
    "collapsed": true
   },
   "outputs": [],
   "source": []
  }
 ],
 "metadata": {
  "kernelspec": {
   "display_name": "Python 2",
   "language": "python",
   "name": "python2"
  },
  "language_info": {
   "codemirror_mode": {
    "name": "ipython",
    "version": 2
   },
   "file_extension": ".py",
   "mimetype": "text/x-python",
   "name": "python",
   "nbconvert_exporter": "python",
   "pygments_lexer": "ipython2",
   "version": "2.7.10"
  }
 },
 "nbformat": 4,
 "nbformat_minor": 0
}
